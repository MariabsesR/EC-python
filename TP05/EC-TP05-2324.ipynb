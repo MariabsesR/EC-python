{
 "cells": [
  {
   "cell_type": "markdown",
   "metadata": {},
   "source": [
    "# Engenharia do Conhecimento 2023/2024\n",
    "\n",
    "## TP05: A Brief introduction to Naive Bayes \n",
    "\n",
    "*A Machine Learning Tutorial by Andre Falcao (DI/FCUL 2020-2022)*\n",
    "*revised by Catia Pesquita (DI/FCUL 2022-2023) and Sofia Teixeira (DI/FCUL 2023-2024)*\n",
    "\n",
    "### Summary\n",
    "\n",
    "1. Introduction to Naive-Bayes using Categorical Naive Bayes\n",
    "2. Naive Bayes in Scikit-learn\n",
    "3. Gaussian Naive-Bayes\n",
    "\n",
    "\n",
    "## 1. Introduction to Naïve Bayes\n",
    "\n",
    "Let's start with a very simple example. We have a dataset of 14 individuals who underwent rapid tests for Covid, from different brands (Teste_A and Teste_B columns). These individuals were then evaluated with an effective PCR test that said whether or not they were carriers of the SARS-Cov-2 Virus (Covid column).\n",
    "\n",
    "The results are in the covid.txt file."
   ]
  },
  {
   "cell_type": "code",
   "execution_count": 1,
   "metadata": {},
   "outputs": [
    {
     "data": {
      "text/html": [
       "<div>\n",
       "<style scoped>\n",
       "    .dataframe tbody tr th:only-of-type {\n",
       "        vertical-align: middle;\n",
       "    }\n",
       "\n",
       "    .dataframe tbody tr th {\n",
       "        vertical-align: top;\n",
       "    }\n",
       "\n",
       "    .dataframe thead th {\n",
       "        text-align: right;\n",
       "    }\n",
       "</style>\n",
       "<table border=\"1\" class=\"dataframe\">\n",
       "  <thead>\n",
       "    <tr style=\"text-align: right;\">\n",
       "      <th></th>\n",
       "      <th>Teste_A</th>\n",
       "      <th>Teste_B</th>\n",
       "      <th>Covid</th>\n",
       "    </tr>\n",
       "  </thead>\n",
       "  <tbody>\n",
       "    <tr>\n",
       "      <th>0</th>\n",
       "      <td>P</td>\n",
       "      <td>P</td>\n",
       "      <td>P</td>\n",
       "    </tr>\n",
       "    <tr>\n",
       "      <th>1</th>\n",
       "      <td>P</td>\n",
       "      <td>P</td>\n",
       "      <td>P</td>\n",
       "    </tr>\n",
       "    <tr>\n",
       "      <th>2</th>\n",
       "      <td>P</td>\n",
       "      <td>N</td>\n",
       "      <td>N</td>\n",
       "    </tr>\n",
       "    <tr>\n",
       "      <th>3</th>\n",
       "      <td>N</td>\n",
       "      <td>N</td>\n",
       "      <td>N</td>\n",
       "    </tr>\n",
       "    <tr>\n",
       "      <th>4</th>\n",
       "      <td>N</td>\n",
       "      <td>N</td>\n",
       "      <td>N</td>\n",
       "    </tr>\n",
       "    <tr>\n",
       "      <th>5</th>\n",
       "      <td>N</td>\n",
       "      <td>P</td>\n",
       "      <td>N</td>\n",
       "    </tr>\n",
       "    <tr>\n",
       "      <th>6</th>\n",
       "      <td>N</td>\n",
       "      <td>P</td>\n",
       "      <td>P</td>\n",
       "    </tr>\n",
       "    <tr>\n",
       "      <th>7</th>\n",
       "      <td>N</td>\n",
       "      <td>P</td>\n",
       "      <td>N</td>\n",
       "    </tr>\n",
       "    <tr>\n",
       "      <th>8</th>\n",
       "      <td>P</td>\n",
       "      <td>P</td>\n",
       "      <td>P</td>\n",
       "    </tr>\n",
       "    <tr>\n",
       "      <th>9</th>\n",
       "      <td>N</td>\n",
       "      <td>N</td>\n",
       "      <td>N</td>\n",
       "    </tr>\n",
       "    <tr>\n",
       "      <th>10</th>\n",
       "      <td>P</td>\n",
       "      <td>N</td>\n",
       "      <td>P</td>\n",
       "    </tr>\n",
       "    <tr>\n",
       "      <th>11</th>\n",
       "      <td>N</td>\n",
       "      <td>N</td>\n",
       "      <td>N</td>\n",
       "    </tr>\n",
       "    <tr>\n",
       "      <th>12</th>\n",
       "      <td>N</td>\n",
       "      <td>P</td>\n",
       "      <td>N</td>\n",
       "    </tr>\n",
       "    <tr>\n",
       "      <th>13</th>\n",
       "      <td>N</td>\n",
       "      <td>P</td>\n",
       "      <td>N</td>\n",
       "    </tr>\n",
       "  </tbody>\n",
       "</table>\n",
       "</div>"
      ],
      "text/plain": [
       "   Teste_A Teste_B Covid\n",
       "0        P       P     P\n",
       "1        P       P     P\n",
       "2        P       N     N\n",
       "3        N       N     N\n",
       "4        N       N     N\n",
       "5        N       P     N\n",
       "6        N       P     P\n",
       "7        N       P     N\n",
       "8        P       P     P\n",
       "9        N       N     N\n",
       "10       P       N     P\n",
       "11       N       N     N\n",
       "12       N       P     N\n",
       "13       N       P     N"
      ]
     },
     "execution_count": 1,
     "metadata": {},
     "output_type": "execute_result"
    }
   ],
   "source": [
    "import numpy as np\n",
    "import pandas as pd\n",
    "df_covid=pd.read_csv(\"covid.txt\", sep=\"\\t\")\n",
    "\n",
    "df_covid"
   ]
  },
  {
   "cell_type": "markdown",
   "metadata": {},
   "source": [
    "### 1.1. Basic concepts and Bayes' Theorem\n",
    "\n",
    "Let's try to answer the following questions:\n",
    "1. What is the probability of an individual being infected with Covid?\n",
    "2. What is the probability that an individual who tested positive in Test B is actually positive for Covid\n",
    "3. What is the probability that an individual who has Covid will have a positive B test? "
   ]
  },
  {
   "cell_type": "markdown",
   "metadata": {},
   "source": [
    "#### 1.1.1 Estimation of Covid\n",
    "The answer to the first question can be estimated assuming the sample is representative of the population\n",
    "\n",
    "$P(Covid_+)=\\frac{N_{pos}}{N}$\n",
    "\n",
    "The probability of a given class is also called *prior* because it has to do with our belief *a priori* of the proportion of individuals of each class in the population, not knowing anything else about each individual."
   ]
  },
  {
   "cell_type": "code",
   "execution_count": 2,
   "metadata": {},
   "outputs": [
    {
     "name": "stdout",
     "output_type": "stream",
     "text": [
      "Probability of an individual having Covid is:   0.357\n",
      "Probability of an individual not having Covid is:   0.643\n"
     ]
    }
   ],
   "source": [
    "N=df_covid.shape[0] #number of instances or individuals\n",
    "\n",
    "N_covid=df_covid[ df_covid.Covid==\"P\"].index.shape[0] #number of positive individuals\n",
    "N_ncovid=df_covid[df_covid.Covid==\"N\"].index.shape[0] #number of negative individuals\n",
    "\n",
    "P_covid=N_covid/N\n",
    "P_ncovid=N_ncovid/N\n",
    "\n",
    "print(\"Probability of an individual having Covid is: %7.3f\" %P_covid)\n",
    "print(\"Probability of an individual not having Covid is: %7.3f\" %P_ncovid)\n"
   ]
  },
  {
   "cell_type": "markdown",
   "metadata": {},
   "source": [
    "\n",
    "#### 1.1.2. Identify the relationship between having a test result and the diagnosis\n",
    "\n",
    "What is the probability that an individual who tested positive on test A has in fact Covid?\n",
    "\n",
    "What we are defining is the probability of an individual being positive if the test A is positive, that is, among all individuals who had a positive A test, what fraction were in fact positive:\n",
    "\n",
    "$P(Covid_+ | A_+)=\\frac{P(Covid_+, A_+)}{P(A_+)}$\n",
    "\n",
    "$P(Covid_- | A_+)=\\frac{P(Covid_-, A_+)}{P(A_+)}$\n",
    "\n",
    "What we are actually saying here is **what is the updated probability** that the individual is Positive (with COVID) **if we have the evidence** that test A was positive for such individual."
   ]
  },
  {
   "cell_type": "code",
   "execution_count": 3,
   "metadata": {},
   "outputs": [
    {
     "name": "stdout",
     "output_type": "stream",
     "text": [
      "The probability that someone who had the A test Positive           HAS Covid is   0.800\n",
      "The probability that someone who had the A test Positive DOES NOT HAVE Covid is   0.200\n"
     ]
    }
   ],
   "source": [
    "#number of positive individuals with a positive test A\n",
    "N_covid_Ap =df_covid[(df_covid.Covid==\"P\") & (df_covid.Teste_A==\"P\")].index.shape[0] \n",
    "\n",
    "#number of negative individuals with a positive test A\n",
    "N_ncovid_Ap=df_covid[(df_covid.Covid==\"N\") & (df_covid.Teste_A==\"P\")].index.shape[0]\n",
    "\n",
    "#number of individuals with a positive test A\n",
    "N_Ap= df_covid[(df_covid.Teste_A==\"P\")].index.shape[0]\n",
    "\n",
    "print(\"The probability that someone who had the A test Positive           HAS Covid is %7.3f\" % (N_covid_Ap/N_Ap))\n",
    "print(\"The probability that someone who had the A test Positive DOES NOT HAVE Covid is %7.3f\" % (N_ncovid_Ap/N_Ap))\n"
   ]
  },
  {
   "cell_type": "markdown",
   "metadata": {},
   "source": [
    "For Test B the procedure is the same, and even then if it seems that test B is \"useless\", notice that our prior conviction gets updated from 0.357 to 0.500, which is actually substantial."
   ]
  },
  {
   "cell_type": "code",
   "execution_count": 4,
   "metadata": {},
   "outputs": [
    {
     "name": "stdout",
     "output_type": "stream",
     "text": [
      "The probability that someone who had the B test Positive           HAS Covid is   0.500\n",
      "The probability that someone who had the B test Positive DOES NOT HAVE Covid is   0.500\n"
     ]
    }
   ],
   "source": [
    "N_covid_Bp =df_covid[(df_covid.Covid==\"P\") & (df_covid.Teste_B==\"P\")].index.shape[0]\n",
    "N_ncovid_Bp=df_covid[(df_covid.Covid==\"N\") & (df_covid.Teste_B==\"P\")].index.shape[0]\n",
    "N_Bp= df_covid[(df_covid.Teste_B==\"P\")].index.shape[0]\n",
    "\n",
    "\n",
    "print(\"The probability that someone who had the B test Positive           HAS Covid is %7.3f\" % (N_covid_Bp/N_Bp))\n",
    "print(\"The probability that someone who had the B test Positive DOES NOT HAVE Covid is %7.3f\" % (N_ncovid_Bp/N_Bp))\n"
   ]
  },
  {
   "cell_type": "markdown",
   "metadata": {},
   "source": [
    "#### 1.1.3. Identify the relationship between a covid diagnosis and a test result\n",
    "\n",
    "\n",
    "In this case we want to know what is the probability that an individual who has Covid will test positive on test A? What we are representing here is, within individuals with positive Covid, which fraction was positive in test A\n",
    "\n",
    "$P(A_+|Covid_+ )=\\frac{P(Covid_+, A_+)}{P(Covid_+)}$\n",
    "\n",
    "$P(A_-|Covid_+ )=\\frac{P(Covid_+, A_-)}{P(Covid_+)}$\n"
   ]
  },
  {
   "cell_type": "code",
   "execution_count": 5,
   "metadata": {},
   "outputs": [
    {
     "name": "stdout",
     "output_type": "stream",
     "text": [
      "The probability that someone who HAS Covid will have a Positive test A is :   0.800\n",
      "The probability that someone who HAS Covid will have a Negative test A is :   0.200\n"
     ]
    }
   ],
   "source": [
    "#number of positive individuals with a positive test A\n",
    "N_Ap_covid=df_covid[(df_covid.Covid==\"P\") & (df_covid.Teste_A==\"P\")].index.shape[0]\n",
    "\n",
    "#number of positive individuals with a negative test A\n",
    "N_An_covid=df_covid[(df_covid.Covid==\"P\") & (df_covid.Teste_A==\"N\")].index.shape[0]\n",
    "\n",
    "L_Ap_covid=N_Ap_covid/N_covid #probability of testing positive on test A if you have covid\n",
    "L_An_covid=N_An_covid/N_covid #probability of testing negative on test A if you have covid\n",
    "\n",
    "print(\"The probability that someone who HAS Covid will have a Positive test A is : %7.3f\" %L_Ap_covid)\n",
    "print(\"The probability that someone who HAS Covid will have a Negative test A is : %7.3f\" %L_An_covid)\n"
   ]
  },
  {
   "cell_type": "markdown",
   "metadata": {},
   "source": [
    "Similarly for test B, we may have"
   ]
  },
  {
   "cell_type": "code",
   "execution_count": 6,
   "metadata": {},
   "outputs": [
    {
     "name": "stdout",
     "output_type": "stream",
     "text": [
      "The probability that someone who HAS Covid will test B POSITIVE is :   0.800\n",
      "The probability that someone who HAS Covid will test B NEGATIVE is :   0.200\n"
     ]
    }
   ],
   "source": [
    "N_Bp_covid=df_covid[(df_covid.Covid==\"P\") & (df_covid.Teste_B==\"P\")].index.shape[0]\n",
    "N_Bn_covid=df_covid[(df_covid.Covid==\"P\") & (df_covid.Teste_B==\"N\")].index.shape[0]\n",
    "\n",
    "L_Bp_covid = N_Bp_covid/N_covid\n",
    "L_Bn_covid = N_Bn_covid/N_covid\n",
    "\n",
    "print(\"The probability that someone who HAS Covid will test B POSITIVE is : %7.3f\" % L_Bp_covid)\n",
    "print(\"The probability that someone who HAS Covid will test B NEGATIVE is : %7.3f\" % L_Bn_covid)\n"
   ]
  },
  {
   "cell_type": "markdown",
   "metadata": {},
   "source": [
    "#### 1.1.4. Bayes Theorem\n",
    "\n",
    "The values above are the Likelihoods and are related to the Posterior by the Bayes theorem. For the case of the positive test A and positive Covid, we have the likelihood:\n",
    "\n",
    "$P(A_+|Covid_+ )=\\dfrac{P(Covid_+, A_+)}{P(Covid_+)}$\n",
    "\n",
    "and the posterior:\n",
    "\n",
    "$P(Covid_+ | A_+)=\\dfrac{P(Covid_+, A_+)}{P(A_+)}$\n",
    "\n",
    "\n",
    "Therefore, it is not difficult to relate the two terms. We are able to calculate the posterior multiplying the likelihood and the priors of the classes, and dividing by the marginal of the atribute (A test in this case):\n",
    "\n",
    "$P(Covid_+ | A_+)=\\dfrac{P( A_+ | Covid_+ ).P(Covid_+)}{P(A_+)}$\n",
    "\n",
    "This last expression is one of the most common representations of Bayes' Theorem "
   ]
  },
  {
   "cell_type": "code",
   "execution_count": 7,
   "metadata": {},
   "outputs": [
    {
     "name": "stdout",
     "output_type": "stream",
     "text": [
      "The calculated Posterior of having Covid having a Positive test A is:    0.800\n",
      "The calculated Posterior of having Covid having a Positive test B is:    0.500\n"
     ]
    }
   ],
   "source": [
    "#priors of each class\n",
    "P_Ap= N_Ap/N #probability of having a positive test A\n",
    "P_Bp= N_Bp/N #probability of having a positive test B\n",
    "\n",
    "#Posteriors computed according to Bayes\n",
    "P_Covid_Ap = (L_Ap_covid * P_covid)/P_Ap #probability of having COVID with a positive on Test A\n",
    "P_Covid_Bp = (L_Bp_covid * P_covid)/P_Bp  #probability of having COVID with a positive on Test B\n",
    "\n",
    "print(\"The calculated Posterior of having Covid having a Positive test A is:  %7.3f\" %P_Covid_Ap)\n",
    "print(\"The calculated Posterior of having Covid having a Positive test B is:  %7.3f\" %P_Covid_Bp)"
   ]
  },
  {
   "cell_type": "markdown",
   "metadata": {},
   "source": [
    "### 1.2. Naive Bayes\n",
    "\n",
    "The central idea in Naive Bayes is the simplifying approach in which **we assume that the independent variables (features) are independent if we know the class**.  Therefore we can multiply the likelihoods of the variables involved by the prior of the class to obtain a value proportional (the denominator being constant needs not to be considered) to the *posteriori* and choose among the obtained values, the one with the highest value (Maximum a posteriori - MAP)\n",
    "\n",
    "So for the above problem, the probability of someone having Covid, given they tested Positive in both tests is:\n",
    "\n",
    "$P(Covid_+ | A_+, B_+) \\propto P(A_+ |Covid_+ ).P(B_+ |Covid_+ ).P(Covid_+)$\n",
    "\n",
    "and the probability of someone not having Covid, given they tested Positive in both tests is:\n",
    "\n",
    "$P(Covid_- | A_+, B_+) \\propto P(A_+ |Covid_- ).P(B_+ |Covid_- ).P(Covid_-)$\n",
    "\n",
    "_Note: $\\propto$ reads \"proportional to\"_"
   ]
  },
  {
   "cell_type": "code",
   "execution_count": 8,
   "metadata": {},
   "outputs": [
    {
     "name": "stdout",
     "output_type": "stream",
     "text": [
      "Probability that someone with both tests positive           HAS Covid is (proportional to):   0.229\n",
      "Probability that someone with both tests positive DOES NOT HAVE Covid is (proportional to):   0.032\n"
     ]
    }
   ],
   "source": [
    "#we will first need to calculate the likelihood associated with not having covid given\n",
    "#that each of the two tests are positive \n",
    "\n",
    "#number of individuals who do not have covid and test positive on test A\n",
    "N_Ap_ncovid=df_covid[(df_covid.Covid==\"N\") & (df_covid.Teste_A==\"P\")].index.shape[0]  \n",
    "\n",
    "#number of individuals who do not have covid and test positive on test B\n",
    "N_Bp_ncovid=df_covid[(df_covid.Covid==\"N\") & (df_covid.Teste_B==\"P\")].index.shape[0]\n",
    "\n",
    "L_Ap_ncovid=N_Ap_ncovid/N_ncovid #probability(likelihood) of having a positive on test A and not having covid\n",
    "L_Bp_ncovid=N_Bp_ncovid/N_ncovid #probability(likelihood) of having a positive on test B and not having covid\n",
    "\n",
    "P_pp_covid =  L_Ap_covid  *  L_Bp_covid   * P_covid #probability of testing positive on both tests and having covid\n",
    "P_pp_ncovid = L_Ap_ncovid *  L_Bp_ncovid  * P_ncovid #probability of testing positive on both tests and not having covid\n",
    "\n",
    "print(\"Probability that someone with both tests positive           HAS Covid is (proportional to): %7.3f\" % P_pp_covid)\n",
    "print(\"Probability that someone with both tests positive DOES NOT HAVE Covid is (proportional to): %7.3f\" % P_pp_ncovid)\n"
   ]
  },
  {
   "cell_type": "markdown",
   "metadata": {},
   "source": [
    "Therefore the Naïve Bayes classifier will choose the class with the highest probability (Covid Positive) and we may associate a confidence corresponding to the probability:"
   ]
  },
  {
   "cell_type": "code",
   "execution_count": 9,
   "metadata": {},
   "outputs": [
    {
     "name": "stdout",
     "output_type": "stream",
     "text": [
      "the individual is Covid Positive, with a confidence of: 87.8%\n"
     ]
    }
   ],
   "source": [
    "print(\"the individual is Covid Positive, with a confidence of: %.1f%%\" %(P_pp_covid/(P_pp_covid+P_pp_ncovid)*100))"
   ]
  },
  {
   "cell_type": "markdown",
   "metadata": {},
   "source": [
    "#### Exercise 1\n",
    "\n",
    "Calculate:\n",
    "1. How should someone with both tests negative be classified? You may add the confidence.\n",
    "2. What if someone tests A positive and B negative? "
   ]
  },
  {
   "cell_type": "code",
   "execution_count": 46,
   "metadata": {},
   "outputs": [],
   "source": [
    "#HINT: to solve the exercise, we need to calculate the likelihood of the tests being negative and not having covid \n",
    "\n"
   ]
  },
  {
   "cell_type": "code",
   "execution_count": 50,
   "metadata": {},
   "outputs": [
    {
     "name": "stdout",
     "output_type": "stream",
     "text": [
      "Probability that someone with both tests negative           HAS Covid is (proportional to):   0.014\n",
      "Probability that someone with both tests negative DOES NOT HAVE Covid is (proportional to):   0.317\n",
      "the individual is Covid negative, with a confidence of: 95.7%\n"
     ]
    }
   ],
   "source": [
    "#solução exercício 1.1\n",
    "#we will first need to calculate the likelihood associated with not having covid given\n",
    "#that each of the two tests are positive \n",
    "#covid yes ............................................................................................\n",
    "#number of individuals who do  have covid and test negative on test A\n",
    "N_An_covid=df_covid[(df_covid.Covid==\"P\") & (df_covid.Teste_A==\"N\")].index.shape[0]  \n",
    "\n",
    "#number of individuals who do  have covid and test negative on test B\n",
    "N_Bn_covid=df_covid[(df_covid.Covid==\"P\") & (df_covid.Teste_B==\"N\")].index.shape[0]\n",
    "\n",
    "L_An_covid=N_An_covid/N_covid #probability(likelihood) of having a negative on test A and  having covid\n",
    "L_Bn_covid=N_Bn_covid/N_covid #probability(likelihood) of having a negative on test B and  having covid\n",
    "#covid yes ............................................................................................\n",
    "#number of individuals who do not have covid and test negative on test A\n",
    "N_Apn_ncovid=df_covid[(df_covid.Covid==\"N\") & (df_covid.Teste_A==\"N\")].index.shape[0]  \n",
    "\n",
    "#number of individuals who do not have covid and test negative on test B\n",
    "N_Bn_ncovid=df_covid[(df_covid.Covid==\"N\") & (df_covid.Teste_B==\"N\")].index.shape[0]\n",
    "\n",
    "L_An_ncovid=N_An_ncovid/N_ncovid #probability(likelihood) of having a negative on test A and not having covid\n",
    "L_Bn_ncovid=N_Bn_ncovid/N_ncovid #probability(likelihood) of having a negative on test B and not having covid\n",
    "\n",
    "\n",
    "P_pp_covid =  L_An_covid  *  L_Bn_covid   * P_covid #probability of testing negative on both tests and having covid\n",
    "P_pp_ncovid = L_An_ncovid *  L_Bn_ncovid  * P_ncovid #probability of testing negative on both tests and not having covid\n",
    "\n",
    "print(\"Probability that someone with both tests negative           HAS Covid is (proportional to): %7.3f\" % P_pp_covid)\n",
    "print(\"Probability that someone with both tests negative DOES NOT HAVE Covid is (proportional to): %7.3f\" % P_pp_ncovid)\n",
    "\n",
    "print(\"the individual is Covid negative, with a confidence of: %.1f%%\" %(P_pp_ncovid/(P_pp_covid+P_pp_ncovid)*100))\n"
   ]
  },
  {
   "cell_type": "code",
   "execution_count": 52,
   "metadata": {},
   "outputs": [
    {
     "name": "stdout",
     "output_type": "stream",
     "text": [
      "Probability that someone with test A positive          HAS Covid is (proportional to):   0.057\n",
      "Probability that someone with test A positive   DOES NOT HAVE Covid is (proportional to):   0.317\n",
      "the individual is Covid negative, with a confidence of: 84.7%\n"
     ]
    }
   ],
   "source": [
    "#solução exercício 1.1\n",
    "#we will first need to calculate the likelihood associated with not having covid given\n",
    "#that each of the two tests are positive \n",
    "#covid yes ............................................................................................\n",
    "#number of individuals who do  have covid and test negative on test A\n",
    "N_An_covid=df_covid[(df_covid.Covid==\"P\") & (df_covid.Teste_A==\"P\")].index.shape[0]  \n",
    "\n",
    "#number of individuals who do  have covid and test negative on test B\n",
    "N_Bn_covid=df_covid[(df_covid.Covid==\"P\") & (df_covid.Teste_B==\"N\")].index.shape[0]\n",
    "\n",
    "L_An_covid=N_An_covid/N_covid #probability(likelihood) of having a positive on test A and  having covid\n",
    "L_Bn_covid=N_Bn_covid/N_covid #probability(likelihood) of having a negative on test B and  having covid\n",
    "#covid yes ............................................................................................\n",
    "#number of individuals who do not have covid and test negative on test A\n",
    "N_Apn_ncovid=df_covid[(df_covid.Covid==\"N\") & (df_covid.Teste_A==\"N\")].index.shape[0]  \n",
    "\n",
    "#number of individuals who do not have covid and test negative on test B\n",
    "N_Bn_ncovid=df_covid[(df_covid.Covid==\"N\") & (df_covid.Teste_B==\"N\")].index.shape[0]\n",
    "\n",
    "L_An_ncovid=N_An_ncovid/N_ncovid #probability(likelihood) of having a positive on test A and not having covid\n",
    "L_Bn_ncovid=N_Bn_ncovid/N_ncovid #probability(likelihood) of having a negative on test B and not having covid\n",
    "\n",
    "\n",
    "P_pp_covid =  L_An_covid  *  L_Bn_covid   * P_covid #probability of test A positive   on both tests and having covid\n",
    "P_pp_ncovid = L_An_ncovid *  L_Bn_ncovid  * P_ncovid #probability of test A positive   on both tests and not having covid\n",
    "\n",
    "print(\"Probability that someone with test A positive          HAS Covid is (proportional to): %7.3f\" % P_pp_covid)\n",
    "print(\"Probability that someone with test A positive   DOES NOT HAVE Covid is (proportional to): %7.3f\" % P_pp_ncovid)\n",
    "\n",
    "print(\"the individual is Covid negative, with a confidence of: %.1f%%\" %(P_pp_ncovid/(P_pp_covid+P_pp_ncovid)*100))\n"
   ]
  },
  {
   "cell_type": "markdown",
   "metadata": {},
   "source": [
    "## 2. Naive Bayes in scikit-learn\n",
    "\n",
    "###  The Covid example\n",
    "\n",
    "\n",
    "#### Step 1 - get the training and testing data\n",
    "\n",
    "Let's process the data, by getting it out of the existing pandas dataframe. It is essential for most models that the data is numeric, so we will transform our data matrix into two columns with 0, and 1. Note that we use the pandas `get_dummies()` function, with the argument `drop_first=True` to ensure that for each feature we have only one column and when the value is positive it is 1, otherwise it is 0."
   ]
  },
  {
   "cell_type": "code",
   "execution_count": 13,
   "metadata": {},
   "outputs": [
    {
     "name": "stdout",
     "output_type": "stream",
     "text": [
      "X_train: [[1 1]\n",
      " [1 1]\n",
      " [1 0]\n",
      " [0 0]\n",
      " [0 0]\n",
      " [0 1]\n",
      " [0 1]\n",
      " [0 1]\n",
      " [1 1]\n",
      " [0 0]\n",
      " [1 0]\n",
      " [0 0]\n",
      " [0 1]\n",
      " [0 1]]\n",
      "y_train: ['P' 'P' 'N' 'N' 'N' 'N' 'P' 'N' 'P' 'N' 'P' 'N' 'N' 'N']\n"
     ]
    }
   ],
   "source": [
    "X_df0 = df_covid.drop(columns=[\"Covid\"])\n",
    "X_df= pd.get_dummies(X_df0, drop_first=True)\n",
    "X_df.columns=X_df0.columns\n",
    "\n",
    "y_train = df_covid.values[:, 2]\n",
    "X_train = X_df.values[:,[0,1]]\n",
    "print(\"X_train:\", X_train) \n",
    "print(\"y_train:\", y_train)"
   ]
  },
  {
   "cell_type": "markdown",
   "metadata": {},
   "source": [
    "The testing set will be only our four possible cases (all possible combinations of tests A and B results)"
   ]
  },
  {
   "cell_type": "code",
   "execution_count": 14,
   "metadata": {},
   "outputs": [
    {
     "data": {
      "text/plain": [
       "array([[0, 0],\n",
       "       [0, 1],\n",
       "       [1, 0],\n",
       "       [1, 1]])"
      ]
     },
     "execution_count": 14,
     "metadata": {},
     "output_type": "execute_result"
    }
   ],
   "source": [
    "X_test=np.array([[0, 0], [0, 1], [1, 0], [1, 1]])\n",
    "X_test"
   ]
  },
  {
   "cell_type": "markdown",
   "metadata": {},
   "source": [
    "#### Step 2 - Set up the classifier\n",
    "\n",
    "Given that in this case we are dealing with categorical values **only** (each feature has only two possible values), we use [CategoricalNB](https://scikit-learn.org/stable/modules/generated/sklearn.naive_bayes.CategoricalNB.html), which treats each feature value as categorical. \n",
    "\n",
    "We will now build our classifier. Note that the CategoricalNB uses an argument `alpha` that corresponds to the `Laplace's Alpha smoothing factor`. This argument is important to account to situations in which a given likelihood may be zero. \n",
    "\n",
    "With CategoricalNB we can obtain the classification given by the most likely class using the `.predict(X)` method. However, we can inspect directly the probabilities for each class by using the `.predict_proba(X)` method. The order of the columns is the alphabetical order of the classes, so the 1st column corresponds to class `N` and the 2nd to class `P` "
   ]
  },
  {
   "cell_type": "code",
   "execution_count": 15,
   "metadata": {},
   "outputs": [],
   "source": [
    "from sklearn.naive_bayes import GaussianNB, CategoricalNB\n",
    "mdl=CategoricalNB(alpha=0.001)"
   ]
  },
  {
   "cell_type": "markdown",
   "metadata": {},
   "source": [
    "#### Step 3 - Fit the model\n",
    "\n",
    "This is the easiest part\n",
    "\n"
   ]
  },
  {
   "cell_type": "code",
   "execution_count": 16,
   "metadata": {},
   "outputs": [],
   "source": [
    "mdl.fit(X_train,y_train);"
   ]
  },
  {
   "cell_type": "markdown",
   "metadata": {},
   "source": [
    "#### Step 4 - Make predictions with the testing data\n"
   ]
  },
  {
   "cell_type": "code",
   "execution_count": 17,
   "metadata": {},
   "outputs": [
    {
     "name": "stdout",
     "output_type": "stream",
     "text": [
      "Case:  [0 0]\n",
      "\tP(Y = N | X=[0 0] )=   0.957\n",
      "\tP(Y = P | X=[0 0] )=   0.043\n",
      "Case:  [0 1]\n",
      "\tP(Y = N | X=[0 1] )=   0.816\n",
      "\tP(Y = P | X=[0 1] )=   0.184\n",
      "Case:  [1 0]\n",
      "\tP(Y = N | X=[1 0] )=   0.410\n",
      "\tP(Y = P | X=[1 0] )=   0.590\n",
      "Case:  [1 1]\n",
      "\tP(Y = N | X=[1 1] )=   0.122\n",
      "\tP(Y = P | X=[1 1] )=   0.878\n"
     ]
    }
   ],
   "source": [
    "probas=mdl.predict_proba(X_test)\n",
    "for i, x in enumerate(probas):\n",
    "    print(\"Case: \", X_test[i])\n",
    "    for j, c in enumerate([\"N\", \"P\"]):\n",
    "        print(\"\\tP(Y = %s | X=%s )= %7.3f\"% (c, X_test[i], x[j]))\n"
   ]
  },
  {
   "cell_type": "markdown",
   "metadata": {},
   "source": [
    "Scikit-learn Naive Bayes has of course the `.predict(X)` method that makes the classification directly, without going through the probabilities"
   ]
  },
  {
   "cell_type": "code",
   "execution_count": 18,
   "metadata": {},
   "outputs": [
    {
     "name": "stdout",
     "output_type": "stream",
     "text": [
      "Case:  [0 0] --> N\n",
      "Case:  [0 1] --> N\n",
      "Case:  [1 0] --> P\n",
      "Case:  [1 1] --> P\n"
     ]
    }
   ],
   "source": [
    "preds=mdl.predict(X_test)\n",
    "for i, p in enumerate(preds):\n",
    "    print(\"Case: \", X_test[i], \"-->\", p)\n",
    "    "
   ]
  },
  {
   "cell_type": "markdown",
   "metadata": {},
   "source": [
    "#### Exercise 2\n",
    "\n",
    "Imagine we have a dataset with 4 variables, each with 3 possible values, and 3 classes. \n",
    "1. How many likelihoods do we have to calculate?\n",
    "2. And how many priors?\n",
    "3. Is it reasonable to expect that all likelihoods have strict positive values? Why?"
   ]
  },
  {
   "cell_type": "code",
   "execution_count": 19,
   "metadata": {},
   "outputs": [],
   "source": [
    "#exemplo anterios     Variables: There are 2 variables, which correspond to the results of tests A and B.\n",
    "  #  Classes: There are 2 classes, denoted as \"N\" and \"P\", representing \"Negative\" and \"Positive\" respectively.\n",
    "   # Values: Each variable has 2 possible values, either 0 or 1, indicating the absence or presence of a positive test result respectively.\n",
    "#Likelihoods represent the probability of observing the features given the class. In classification, likelihoods \n",
    "#quantify how well the observed features align with each class\n",
    "### Write your answers here\n",
    "#Number of likelihoods=Number of variables×Number of values per variable×Number of classes\n",
    "#=4×3×3=36=4×3×3=36   \n",
    "\n",
    "#Priors represent the initial belief or probability assigned to each class before observing any data. \n",
    "#In the context of classification, priors are the probabilities of each class occurring in the population. \n",
    "#number of priors = number of classes = 3\n",
    "\n",
    "#Positive likelihood values refer to the probabilities assigned to observed feature values given a particular class. \n",
    "#These probabilities indicate how likely it is to observe a specific combination of feature values when the class is known.\n",
    "#If a particular combination of variable value and class doesn't occur in the training data, the likelihood for that combination would be zero,"
   ]
  },
  {
   "cell_type": "markdown",
   "metadata": {},
   "source": [
    "## 3. Gaussian Naive Bayes\n",
    "\n",
    "### 3.1. The essence of Bayesian classification in 1-Dimension\n",
    "\n",
    "Assuming a Gaussian distribution of the independent variable, in one dimension, it is very simple to make a Bayesian classifier. Given 2 classes A and B, the probability that instance i is in class A can be computed as the product of the likelihood and the priors\n",
    "\n",
    "$P(i \\in Class_A | x_i) \\propto P(x_i |i \\in Class_A).P(Class_A)$\n",
    "\n",
    "$P(i \\in Class_B | x_i) \\propto P(x_i |i \\in Class_B).P(Class_B)$\n",
    "\n",
    "What makes a Bayesian classifier in this condition is the simple observation that the likelihoods are proportional to the probability distribution functions.\n",
    "\n",
    "For instance, if we have 2 Gaussian distributions for class A and B, assuming identical priors, the optimal classification separation line is where both lines intersect.\n",
    "\n",
    "So if we have a class A with mean = 2.0 and stddev =  0.5, and class B with mean = 3.5 and stddev = 1.5, we can compute their distributions."
   ]
  },
  {
   "cell_type": "code",
   "execution_count": 20,
   "metadata": {},
   "outputs": [],
   "source": [
    "from scipy.stats import norm\n",
    "\n",
    "normA=norm(loc=2.0, scale=0.5)\n",
    "normB=norm(loc=3.5, scale=1.5)"
   ]
  },
  {
   "cell_type": "markdown",
   "metadata": {},
   "source": [
    "And actually plot them on a given interval"
   ]
  },
  {
   "cell_type": "code",
   "execution_count": 21,
   "metadata": {},
   "outputs": [
    {
     "data": {
      "image/png": "[encoded data removed]",
      "text/plain": [
       "<Figure size 640x480 with 1 Axes>"
      ]
     },
     "metadata": {},
     "output_type": "display_data"
    }
   ],
   "source": [
    "import matplotlib.pyplot as plt\n",
    "x = np.linspace(-1, 8, 100)\n",
    "yA = normA.pdf(x)\n",
    "yB = normB.pdf(x)\n",
    "\n",
    "plt.plot(x, yA,'r-', lw=1, alpha=0.6, label='ClassA')\n",
    "plt.plot(x, yB,'b-', lw=1, alpha=0.6, label='ClassB')\n",
    "plt.legend()\n",
    "plt.grid()\n",
    "plt.show()"
   ]
  },
  {
   "cell_type": "markdown",
   "metadata": {},
   "source": [
    "We can actually identify the regions that belong to each class _a priori_"
   ]
  },
  {
   "cell_type": "code",
   "execution_count": 22,
   "metadata": {},
   "outputs": [
    {
     "data": {
      "image/png": "[encoded data removed]",
      "text/plain": [
       "<Figure size 640x480 with 1 Axes>"
      ]
     },
     "metadata": {},
     "output_type": "display_data"
    }
   ],
   "source": [
    "A_regions=x[yA-yB>0]\n",
    "B_regions=x[yA-yB<=0]\n",
    "plt.scatter(A_regions, np.ones(A_regions.size), c=\"r\", label=\"Class A\")\n",
    "plt.scatter(B_regions, -np.ones(B_regions.size), c=\"b\", label=\"Class B\")\n",
    "plt.legend()\n",
    "plt.grid()\n",
    "plt.show()"
   ]
  },
  {
   "cell_type": "markdown",
   "metadata": {},
   "source": [
    "Lets visualise a 2 dimensional classification problem"
   ]
  },
  {
   "cell_type": "code",
   "execution_count": 23,
   "metadata": {},
   "outputs": [
    {
     "data": {
      "text/html": [
       "<div>\n",
       "<style scoped>\n",
       "    .dataframe tbody tr th:only-of-type {\n",
       "        vertical-align: middle;\n",
       "    }\n",
       "\n",
       "    .dataframe tbody tr th {\n",
       "        vertical-align: top;\n",
       "    }\n",
       "\n",
       "    .dataframe thead th {\n",
       "        text-align: right;\n",
       "    }\n",
       "</style>\n",
       "<table border=\"1\" class=\"dataframe\">\n",
       "  <thead>\n",
       "    <tr style=\"text-align: right;\">\n",
       "      <th></th>\n",
       "      <th>x1</th>\n",
       "      <th>x2</th>\n",
       "      <th>cl</th>\n",
       "    </tr>\n",
       "  </thead>\n",
       "  <tbody>\n",
       "    <tr>\n",
       "      <th>0</th>\n",
       "      <td>0.4686</td>\n",
       "      <td>5.8533</td>\n",
       "      <td>A</td>\n",
       "    </tr>\n",
       "    <tr>\n",
       "      <th>1</th>\n",
       "      <td>2.0865</td>\n",
       "      <td>5.3786</td>\n",
       "      <td>A</td>\n",
       "    </tr>\n",
       "    <tr>\n",
       "      <th>2</th>\n",
       "      <td>3.5261</td>\n",
       "      <td>5.4588</td>\n",
       "      <td>A</td>\n",
       "    </tr>\n",
       "    <tr>\n",
       "      <th>3</th>\n",
       "      <td>2.0805</td>\n",
       "      <td>5.3412</td>\n",
       "      <td>A</td>\n",
       "    </tr>\n",
       "    <tr>\n",
       "      <th>4</th>\n",
       "      <td>3.9224</td>\n",
       "      <td>9.1333</td>\n",
       "      <td>A</td>\n",
       "    </tr>\n",
       "    <tr>\n",
       "      <th>...</th>\n",
       "      <td>...</td>\n",
       "      <td>...</td>\n",
       "      <td>...</td>\n",
       "    </tr>\n",
       "    <tr>\n",
       "      <th>495</th>\n",
       "      <td>-2.0556</td>\n",
       "      <td>4.4121</td>\n",
       "      <td>B</td>\n",
       "    </tr>\n",
       "    <tr>\n",
       "      <th>496</th>\n",
       "      <td>-1.9094</td>\n",
       "      <td>7.0318</td>\n",
       "      <td>B</td>\n",
       "    </tr>\n",
       "    <tr>\n",
       "      <th>497</th>\n",
       "      <td>0.1532</td>\n",
       "      <td>4.6287</td>\n",
       "      <td>A</td>\n",
       "    </tr>\n",
       "    <tr>\n",
       "      <th>498</th>\n",
       "      <td>-0.7840</td>\n",
       "      <td>6.4127</td>\n",
       "      <td>B</td>\n",
       "    </tr>\n",
       "    <tr>\n",
       "      <th>499</th>\n",
       "      <td>-0.3355</td>\n",
       "      <td>7.4466</td>\n",
       "      <td>A</td>\n",
       "    </tr>\n",
       "  </tbody>\n",
       "</table>\n",
       "<p>500 rows × 3 columns</p>\n",
       "</div>"
      ],
      "text/plain": [
       "         x1      x2 cl\n",
       "0    0.4686  5.8533  A\n",
       "1    2.0865  5.3786  A\n",
       "2    3.5261  5.4588  A\n",
       "3    2.0805  5.3412  A\n",
       "4    3.9224  9.1333  A\n",
       "..      ...     ... ..\n",
       "495 -2.0556  4.4121  B\n",
       "496 -1.9094  7.0318  B\n",
       "497  0.1532  4.6287  A\n",
       "498 -0.7840  6.4127  B\n",
       "499 -0.3355  7.4466  A\n",
       "\n",
       "[500 rows x 3 columns]"
      ]
     },
     "execution_count": 23,
     "metadata": {},
     "output_type": "execute_result"
    }
   ],
   "source": [
    "import pandas as pd\n",
    "\n",
    "df_train=pd.read_csv(\"train.csv\")\n",
    "df_test=pd.read_csv(\"test.csv\")\n",
    "\n",
    "df_train"
   ]
  },
  {
   "cell_type": "code",
   "execution_count": 24,
   "metadata": {},
   "outputs": [],
   "source": [
    "y_train=df_train[\"cl\"]\n",
    "y_train=np.array(y_train, dtype=\"U\")\n",
    "X_train=df_train.values[:,0:2]\n",
    "X_train=X_train.astype(float)\n",
    "\n",
    "y_test=df_test[\"cl\"]\n",
    "y_test=y_test.astype(\"U\") #need to update the type\n",
    "X_test=df_test.values[:,0:2]\n",
    "X_test=X_test.astype(float)\n"
   ]
  },
  {
   "cell_type": "markdown",
   "metadata": {},
   "source": [
    "And let's plot it"
   ]
  },
  {
   "cell_type": "code",
   "execution_count": 25,
   "metadata": {},
   "outputs": [
    {
     "data": {
      "image/png": "[encoded data removed]",
      "text/plain": [
       "<Figure size 640x480 with 1 Axes>"
      ]
     },
     "metadata": {},
     "output_type": "display_data"
    }
   ],
   "source": [
    "plt.scatter(X_train[y_train==\"A\",0], X_train[y_train==\"A\",1], label=\"Class A\", c=\"red\")\n",
    "plt.scatter(X_train[y_train==\"B\",0], X_train[y_train==\"B\",1], label=\"Class B\", c=\"blue\")\n",
    "plt.legend()\n",
    "plt.grid()\n",
    "plt.show()"
   ]
  },
  {
   "cell_type": "markdown",
   "metadata": {},
   "source": [
    "Let's compute the global statistics"
   ]
  },
  {
   "cell_type": "code",
   "execution_count": 26,
   "metadata": {},
   "outputs": [],
   "source": [
    "m1, m2 = np.mean(X_train, axis=0)\n",
    "v1, v2 = np.var(X_train, axis=0)\n",
    "s1, s2 = np.sqrt(np.array([v1, v2]))"
   ]
  },
  {
   "cell_type": "markdown",
   "metadata": {},
   "source": [
    "Let's check just the difference in mean and stddev for the first variable (column = 0)"
   ]
  },
  {
   "cell_type": "code",
   "execution_count": 27,
   "metadata": {},
   "outputs": [
    {
     "name": "stdout",
     "output_type": "stream",
     "text": [
      "For class A, the mean of x1 is  0.620 and the stdev is  1.595\n",
      "For class B, the mean of x1 is -1.129 and the stdev is  1.024\n"
     ]
    }
   ],
   "source": [
    "cA=X_train[y_train==\"A\", 0]\n",
    "cB=X_train[y_train==\"B\", 0]\n",
    "\n",
    "mA =np.mean(cA)\n",
    "mB =np.mean(cB)\n",
    "sA=np.sqrt(np.var(cA))\n",
    "sB=np.sqrt(np.var(cB))\n",
    "print( \"For class A, the mean of x1 is %6.3f and the stdev is %6.3f\" % (mA, sA))\n",
    "print( \"For class B, the mean of x1 is %6.3f and the stdev is %6.3f\" % (mB, sB))"
   ]
  },
  {
   "cell_type": "markdown",
   "metadata": {},
   "source": [
    "Following the above procedure we can similarly compute the normals and check them visually"
   ]
  },
  {
   "cell_type": "markdown",
   "metadata": {},
   "source": [
    "Assuming that each class is equally likely we can plot the Gaussians of both classes.\n",
    "\n",
    "We can see that that point around -0.06 is what separates the highest likelihood of a new random instance belonging to a given class\n",
    "\n",
    "* It is class A if $x > -0.06 $\n",
    "* It is class B if $x\\leq -0.06 $\n"
   ]
  },
  {
   "cell_type": "code",
   "execution_count": 28,
   "metadata": {},
   "outputs": [
    {
     "data": {
      "image/png": "[encoded data removed]",
      "text/plain": [
       "<Figure size 640x480 with 1 Axes>"
      ]
     },
     "metadata": {},
     "output_type": "display_data"
    }
   ],
   "source": [
    "x = np.linspace(m1-3*s1, m1+3*s1, 100)\n",
    "normA=norm(loc=mA, scale=sA)\n",
    "normB=norm(loc=mB, scale=sB)\n",
    "yA = normA.pdf(x)\n",
    "yB = normB.pdf(x)\n",
    "\n",
    "plt.plot(x, yA,'r-', lw=1, alpha=0.6, label='ClassA')\n",
    "plt.plot(x, yB,'b-', lw=1, alpha=0.6, label='ClassB')\n",
    "plt.axvline(-0.06)\n",
    "plt.legend()\n",
    "plt.grid()\n",
    "plt.show()\n"
   ]
  },
  {
   "cell_type": "markdown",
   "metadata": {},
   "source": [
    "This would be true if the priors of both classes were equally probable. Let's see if that's true, by calculating their priors.\n"
   ]
  },
  {
   "cell_type": "code",
   "execution_count": 29,
   "metadata": {},
   "outputs": [
    {
     "data": {
      "text/plain": [
       "(0.684, 0.316)"
      ]
     },
     "execution_count": 29,
     "metadata": {},
     "output_type": "execute_result"
    }
   ],
   "source": [
    "nA=np.sum(y_train==\"A\")\n",
    "nB=np.sum(y_train==\"B\")\n",
    "priorA, priorB = nA/(nA+nB), nB/(nA+nB), \n",
    "priorA, priorB"
   ]
  },
  {
   "cell_type": "markdown",
   "metadata": {},
   "source": [
    "We can see that actually class A is much more representative than class B, so we can update our model accordingly."
   ]
  },
  {
   "cell_type": "code",
   "execution_count": 30,
   "metadata": {
    "scrolled": false
   },
   "outputs": [
    {
     "data": {
      "image/png": "[encoded data removed]",
      "text/plain": [
       "<Figure size 640x480 with 1 Axes>"
      ]
     },
     "metadata": {},
     "output_type": "display_data"
    }
   ],
   "source": [
    "yA = normA.pdf(x)*priorA\n",
    "yB = normB.pdf(x)*priorB\n",
    "\n",
    "plt.plot(x, yA,'r-', lw=1, alpha=0.6, label='ClassA')\n",
    "plt.plot(x, yB,'b-', lw=1, alpha=0.6, label='ClassB')\n",
    "plt.legend()\n",
    "plt.grid()\n",
    "plt.show()"
   ]
  },
  {
   "cell_type": "markdown",
   "metadata": {},
   "source": [
    "With this update, we can see that class A is much more dominant. In terms of regions for classification, we see that there are two different ranges of values for which classifications will go to Class A."
   ]
  },
  {
   "cell_type": "code",
   "execution_count": 31,
   "metadata": {},
   "outputs": [
    {
     "data": {
      "image/png": "[encoded data removed]",
      "text/plain": [
       "<Figure size 640x480 with 1 Axes>"
      ]
     },
     "metadata": {},
     "output_type": "display_data"
    }
   ],
   "source": [
    "A_regions=x[yA-yB>0]\n",
    "B_regions=x[yA-yB<=0]\n",
    "plt.scatter(A_regions, np.ones(A_regions.size), c=\"r\", label=\"Class A\")\n",
    "plt.scatter(B_regions, -np.ones(B_regions.size), c=\"b\", label=\"Class B\")\n",
    "plt.legend()\n",
    "plt.grid()\n",
    "plt.show()"
   ]
  },
  {
   "cell_type": "markdown",
   "metadata": {},
   "source": [
    "We can now use the test set to evaluate the model. We compute the respective likelihoods of both classes and multiply by the priors. The predicted class is just when the value of one class is larger than the other."
   ]
  },
  {
   "cell_type": "code",
   "execution_count": 32,
   "metadata": {},
   "outputs": [],
   "source": [
    "yA = normA.pdf(X_test[:,0])*priorA\n",
    "yB = normB.pdf(X_test[:,0])*priorB\n",
    "preds=np.array([\"A\", \"B\"])[np.array(yA<=yB, dtype=int)]\n"
   ]
  },
  {
   "cell_type": "code",
   "execution_count": 33,
   "metadata": {},
   "outputs": [
    {
     "name": "stdout",
     "output_type": "stream",
     "text": [
      "The F1 score is: [0.77419355 0.63157895]\n",
      "[[96 42]\n",
      " [14 48]]\n"
     ]
    }
   ],
   "source": [
    "from sklearn.metrics import confusion_matrix, f1_score\n",
    "print(\"The F1 score is:\", f1_score(y_test, preds, average=None))\n",
    "print(confusion_matrix(y_test, preds))"
   ]
  },
  {
   "cell_type": "markdown",
   "metadata": {},
   "source": [
    "### 2.2 Combining multiple quantitative dimensions\n",
    "\n",
    "The above describes a Gaussian Bayesian classifier. For Naive Bayes we need to do as we have done above for categorical data. We need to compute the priors and the likelyhoods for each variable and class\n",
    "\n",
    "$P(i \\in Class_A | x_i) \\propto \\prod_j{P(x_{ij} |i \\in Class_A)}.P(Class_A)$\n",
    "\n",
    "$P(i \\in Class_B | x_i)  \\propto \\prod_j{P(x_{ij} |i \\in Class_B)}.P(Class_B)$\n",
    "\n",
    "Therefore we need some functions that, given any dataset, are able to:\n",
    "\n",
    "* compute overal statistics for parametrization of the Gaussians and priors `get_class_stats()`\n",
    "* compute the Gaussian functions given the stats for each class `get_gaussians()`\n",
    "* Compute the priors given the priors `get_priors()`"
   ]
  },
  {
   "cell_type": "code",
   "execution_count": 34,
   "metadata": {},
   "outputs": [],
   "source": [
    "#this function will compute the means and std deviations for all classes\n",
    "def get_class_stats(X, y):\n",
    "    classes=list(set(y))\n",
    "    N,M=X.shape\n",
    "    stats={c: None for c in classes}\n",
    "    for c in classes:\n",
    "        mX = X[y==c,:]\n",
    "        means = np.mean(mX, axis=0)\n",
    "        stds  = np.sqrt(np.var(mX, axis=0))\n",
    "        count,_=mX.shape\n",
    "        stats[c]=(count, means, stds)\n",
    "    return stats\n",
    "    \n",
    "#this function will get all the gaussians: One for each variable, class combination\n",
    "def get_gaussians(stats):\n",
    "    gaussians={}\n",
    "    for c in stats:\n",
    "        N, means, stds=stats[c]\n",
    "        gaussians[c]=[norm(loc=mean, scale=stds[i]) for i, mean in enumerate(means)]\n",
    "    return gaussians\n",
    "\n",
    "def get_priors(stats):\n",
    "    priors = {}\n",
    "    total  = 0\n",
    "    for c in stats:\n",
    "        N, means, stds=stats[c]\n",
    "        priors[c]=N\n",
    "        total+=N\n",
    "    for c in priors: priors[c]/=total\n",
    "    return priors\n"
   ]
  },
  {
   "cell_type": "markdown",
   "metadata": {},
   "source": [
    "We will further require a function that given a dataset, the priors and the gaussians is able to make a prediction for each row of the dataset"
   ]
  },
  {
   "cell_type": "code",
   "execution_count": 35,
   "metadata": {},
   "outputs": [],
   "source": [
    "def gnb_predict(Xtst, priors, gaussians):\n",
    "    N,M = Xtst.shape\n",
    "    res         = -np.ones(N)\n",
    "    final_preds = -np.zeros(N)\n",
    "    final_preds=final_preds.astype(str)\n",
    "    for c in gaussians:\n",
    "        preds=np.ones(N)*priors[c]\n",
    "        for col in range(M): preds*=gaussians[c][col].pdf(Xtst[:,col])\n",
    "        final_preds[preds>res]=c\n",
    "        res[preds>res]=preds[preds>res]\n",
    "    return final_preds\n"
   ]
  },
  {
   "cell_type": "markdown",
   "metadata": {},
   "source": [
    "Here is a sample use for our very simple example"
   ]
  },
  {
   "cell_type": "code",
   "execution_count": 36,
   "metadata": {},
   "outputs": [
    {
     "name": "stdout",
     "output_type": "stream",
     "text": [
      "The F1 score is:  0.784073616878016\n",
      "[[111  27]\n",
      " [ 17  45]]\n"
     ]
    }
   ],
   "source": [
    "stats = get_class_stats(X_train,y_train)\n",
    "gaussians= get_gaussians(stats)\n",
    "priors = get_priors(stats)\n",
    "\n",
    "preds = gnb_predict(X_test, priors, gaussians)\n",
    "print(\"The F1 score is: \", f1_score(y_test, preds, average='weighted'))\n",
    "print(confusion_matrix(y_test, preds))"
   ]
  },
  {
   "cell_type": "markdown",
   "metadata": {},
   "source": [
    "#### Exercise 3\n",
    "\n",
    "For the Iris data create a model [Naive Bayes Gaussian (Gaussian NB)](https://scikit-learn.org/stable/modules/generated/sklearn.naive_bayes.GaussianNB.html) and test it. "
   ]
  },
  {
   "cell_type": "code",
   "execution_count": 60,
   "metadata": {},
   "outputs": [
    {
     "name": "stdout",
     "output_type": "stream",
     "text": [
      "Actual   Predicted\n",
      "versicolor versicolor\n",
      "setosa    setosa\n",
      "virginica virginica\n",
      "versicolor versicolor\n",
      "versicolor versicolor\n",
      "setosa    setosa\n",
      "versicolor versicolor\n",
      "virginica virginica\n",
      "versicolor versicolor\n",
      "versicolor versicolor\n",
      "virginica virginica\n",
      "setosa    setosa\n",
      "setosa    setosa\n",
      "setosa    setosa\n",
      "setosa    setosa\n",
      "versicolor versicolor\n",
      "virginica virginica\n",
      "versicolor versicolor\n",
      "versicolor versicolor\n",
      "virginica virginica\n",
      "setosa    setosa\n",
      "virginica virginica\n",
      "setosa    setosa\n",
      "virginica virginica\n",
      "virginica virginica\n",
      "virginica virginica\n",
      "virginica virginica\n",
      "virginica virginica\n",
      "setosa    setosa\n",
      "setosa    setosa\n",
      "The F1 score is:  1.0\n",
      "[[10  0  0]\n",
      " [ 0  9  0]\n",
      " [ 0  0 11]]\n"
     ]
    }
   ],
   "source": [
    "#Your Solution\n",
    "from sklearn.datasets import load_iris\n",
    "from sklearn.model_selection import train_test_split\n",
    "from sklearn.naive_bayes import GaussianNB\n",
    "from sklearn.metrics import accuracy_score, classification_report\n",
    "\n",
    "\n",
    "iris = load_iris()\n",
    "X = iris.data\n",
    "y = iris.target\n",
    "\n",
    "X_train, X_test, y_train, y_test = train_test_split(X, y, test_size=0.2, random_state=42)\n",
    "\n",
    "gnb = GaussianNB()\n",
    "\n",
    "gnb.fit(X_train, y_train)\n",
    "\n",
    "y_pred = gnb.predict(X_test)\n",
    "\n",
    "print(\"Actual   Predicted\")\n",
    "for actual, predicted in zip(y_test, y_pred):\n",
    "    print(f\"{iris.target_names[actual]:<9} {iris.target_names[predicted]}\")\n",
    "    \n",
    "    \n",
    "stats = get_class_stats(X_train, y_train)\n",
    "\n",
    "\n",
    "gaussians = get_gaussians(stats)\n",
    "\n",
    "\n",
    "priors = get_priors(stats)\n",
    "\n",
    "pred = gnb_predict(X_test, priors, gaussians)\n",
    "\n",
    "\n",
    "\n",
    "print(\"The F1 score is: \", f1_score(y_test, y_pred, average='weighted'))\n",
    "print(confusion_matrix(y_test, y_pred))"
   ]
  },
  {
   "cell_type": "code",
   "execution_count": null,
   "metadata": {},
   "outputs": [],
   "source": []
  }
 ],
 "metadata": {
  "kernelspec": {
   "display_name": "Python 3 (ipykernel)",
   "language": "python",
   "name": "python3"
  },
  "language_info": {
   "codemirror_mode": {
    "name": "ipython",
    "version": 3
   },
   "file_extension": ".py",
   "mimetype": "text/x-python",
   "name": "python",
   "nbconvert_exporter": "python",
   "pygments_lexer": "ipython3",
   "version": "3.11.4"
  }
 },
 "nbformat": 4,
 "nbformat_minor": 4
}
